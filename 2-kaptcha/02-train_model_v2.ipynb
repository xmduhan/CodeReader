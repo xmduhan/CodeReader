{
 "cells": [
  {
   "cell_type": "code",
   "execution_count": 1,
   "metadata": {
    "collapsed": true
   },
   "outputs": [],
   "source": [
    "from __future__ import division\n",
    "import math\n",
    "import pickle\n",
    "import requests\n",
    "import numpy as np\n",
    "import tensorflow as tf\n",
    "from itertools import product\n",
    "from random import sample\n",
    "from string import lowercase, digits\n",
    "# from captcha.image import ImageCaptcha"
   ]
  },
  {
   "cell_type": "code",
   "execution_count": 2,
   "metadata": {
    "collapsed": true
   },
   "outputs": [],
   "source": [
    "from StringIO import StringIO\n",
    "import tempfile\n",
    "from PIL import Image\n",
    "import py4j\n",
    "from py4j.java_gateway import JavaGateway, GatewayParameters"
   ]
  },
  {
   "cell_type": "markdown",
   "metadata": {},
   "source": [
    "### .初始化验证生成控件"
   ]
  },
  {
   "cell_type": "code",
   "execution_count": 3,
   "metadata": {
    "collapsed": true
   },
   "outputs": [],
   "source": [
    "port = py4j.java_gateway.launch_gateway(classpath='/usr/lib/jvm/lib/kaptcha-2.3.2.jar')\n",
    "gateway = JavaGateway(gateway_parameters=GatewayParameters(port=port))\n",
    "constants = gateway.jvm.com.google.code.kaptcha.Constants\n",
    "ImageIO = gateway.jvm.javax.imageio.ImageIO\n",
    "filename = tempfile.mktemp(suffix='.jpg')"
   ]
  },
  {
   "cell_type": "code",
   "execution_count": 4,
   "metadata": {
    "collapsed": true
   },
   "outputs": [],
   "source": [
    "fontSizeList = ['39', '40', '41', '42', '43', '44', '45']\n",
    "fontNameList = [\n",
    "    'Ubuntu Light',\n",
    "    'Ubuntu Light Italic',\n",
    "    'Ubuntu Regular',\n",
    "    'Ubuntu Regular Italic',\n",
    "    'Lato-Hairline',\n",
    "    'lmroman8-italic', \n",
    "    'lmmonocaps10-regular',\n",
    "    'Loma-Oblique',\n",
    "    'Norasi-Oblique',\n",
    "    'Umpush-Light',\n",
    "]\n",
    "kaptchaList = []\n",
    "for fontSize, fontName in product(fontSizeList, fontNameList):\n",
    "    properties = gateway.jvm.java.util.Properties()\n",
    "    properties.put(constants.KAPTCHA_IMAGE_WIDTH, '223')\n",
    "    properties.put(constants.KAPTCHA_IMAGE_HEIGHT, '50')\n",
    "    properties.put(constants.KAPTCHA_TEXTPRODUCER_FONT_SIZE, fontSize)\n",
    "    properties.put(constants.KAPTCHA_TEXTPRODUCER_FONT_NAMES, fontName)\n",
    "    properties.put(constants.KAPTCHA_BORDER, 'no')\n",
    "    kaptchaConfig = gateway.jvm.com.google.code.kaptcha.util.Config(properties)\n",
    "    kaptcha = gateway.jvm.com.google.code.kaptcha.impl.DefaultKaptcha()\n",
    "    kaptcha.setConfig(kaptchaConfig)\n",
    "    kaptchaList.append(kaptcha)"
   ]
  },
  {
   "cell_type": "markdown",
   "metadata": {},
   "source": [
    "### .定义模型参数"
   ]
  },
  {
   "cell_type": "code",
   "execution_count": 5,
   "metadata": {},
   "outputs": [],
   "source": [
    "index = 1\n",
    "width = 223\n",
    "height = 50\n",
    "# charset = '0123456789'\n",
    "# charset = '0123456789' + lowercase\n",
    "charset = digits + lowercase\n",
    "# captchaLength = 4\n",
    "captchaLength = 1\n",
    "imageSize = width * height\n",
    "alpha = 1e-3"
   ]
  },
  {
   "cell_type": "markdown",
   "metadata": {},
   "source": [
    "### .定义相关函数"
   ]
  },
  {
   "cell_type": "code",
   "execution_count": 6,
   "metadata": {
    "collapsed": true
   },
   "outputs": [],
   "source": [
    "# def getCode():\n",
    "#     return ''.join(map(\n",
    "#         lambda x: charset[x], \n",
    "#         # np.random.randint(0, len(charset), captchaLength)  \n",
    "#         np.random.randint(0, len(charset), 4) # changed\n",
    "#     ))\n",
    "# captcha = ImageCaptcha(width=width, height=height)"
   ]
  },
  {
   "cell_type": "code",
   "execution_count": 7,
   "metadata": {
    "collapsed": true
   },
   "outputs": [],
   "source": [
    "# def getData(n = 10):    \n",
    "#     codeList = [getCode() for _ in range(n)]\n",
    "#     imageList = map(lambda code: captcha.generate_image(code), codeList)\n",
    "#     return imageList, codeList"
   ]
  },
  {
   "cell_type": "code",
   "execution_count": 8,
   "metadata": {
    "collapsed": true
   },
   "outputs": [],
   "source": [
    "def getCode():\n",
    "    return kaptcha.createText()"
   ]
  },
  {
   "cell_type": "code",
   "execution_count": 9,
   "metadata": {
    "collapsed": true
   },
   "outputs": [],
   "source": [
    "def generateImage(code):\n",
    "    kaptcha = sample(kaptchaList, 1)[0]\n",
    "    image = kaptcha.createImage(code)\n",
    "    f = gateway.jvm.java.io.File(filename)    \n",
    "    ImageIO.write(image, 'JPG', f)\n",
    "    image = Image.open(filename)\n",
    "    return image"
   ]
  },
  {
   "cell_type": "code",
   "execution_count": 10,
   "metadata": {
    "collapsed": true
   },
   "outputs": [],
   "source": [
    "def getData(n = 10):    \n",
    "    codeList = [getCode() for _ in range(n)]\n",
    "    imageList = map(lambda code: generateImage(code), codeList)\n",
    "    return imageList, codeList"
   ]
  },
  {
   "cell_type": "code",
   "execution_count": 11,
   "metadata": {
    "collapsed": true
   },
   "outputs": [],
   "source": [
    "def weight_variable(shape):\n",
    "    initial = tf.random_normal(shape, stddev=0.01)                                                                                                     \n",
    "    return tf.Variable(initial)   "
   ]
  },
  {
   "cell_type": "code",
   "execution_count": 12,
   "metadata": {
    "collapsed": true
   },
   "outputs": [],
   "source": [
    "def bias_variable(shape):\n",
    "    initial = tf.random_normal(shape, stddev=0.1)\n",
    "    return tf.Variable(initial)   "
   ]
  },
  {
   "cell_type": "code",
   "execution_count": 13,
   "metadata": {
    "collapsed": true
   },
   "outputs": [],
   "source": [
    "def conv2d(x, W): \n",
    "    return tf.nn.conv2d(x, W, strides=[1, 1, 1, 1], padding='SAME')"
   ]
  },
  {
   "cell_type": "code",
   "execution_count": 14,
   "metadata": {
    "collapsed": true
   },
   "outputs": [],
   "source": [
    "def max_pool(x):\n",
    "    return tf.nn.max_pool(x, ksize=[1, 2, 2, 1], strides=[1, 2, 2, 1], padding='SAME')"
   ]
  },
  {
   "cell_type": "code",
   "execution_count": 15,
   "metadata": {
    "collapsed": true
   },
   "outputs": [],
   "source": [
    "# def imageToVertor(image):\n",
    "#     \"\"\" 将图片转化为向量表示 \"\"\"\n",
    "#     image = image.convert(\"L\")\n",
    "#     image = np.asarray(image)\n",
    "#     image = image.reshape([width * height]) / 255\n",
    "#     return image"
   ]
  },
  {
   "cell_type": "code",
   "execution_count": 16,
   "metadata": {
    "collapsed": true
   },
   "outputs": [],
   "source": [
    "def imageToVertor(image):\n",
    "    \"\"\" 将图片转化为向量表示 \"\"\"\n",
    "    width = image.width\n",
    "    height = image.height\n",
    "    image = image.convert(\"L\")\n",
    "    image = np.asarray(image)\n",
    "    image = image.reshape([width * height]) / 255\n",
    "    return image"
   ]
  },
  {
   "cell_type": "code",
   "execution_count": 17,
   "metadata": {
    "collapsed": true
   },
   "outputs": [],
   "source": [
    "def codeToVertor(code):\n",
    "    \"\"\" 将验证码转化为向量表示 \"\"\"\n",
    "    labels = np.zeros([captchaLength, len(charset)])\n",
    "    for i in range(captchaLength):\n",
    "        labels[i, charset.index(code[i])] = 1\n",
    "    return labels.reshape(len(charset) * captchaLength)"
   ]
  },
  {
   "cell_type": "code",
   "execution_count": 18,
   "metadata": {},
   "outputs": [
    {
     "name": "stdout",
     "output_type": "stream",
     "text": [
      "gxbef\n"
     ]
    },
    {
     "data": {
      "image/png": "[encoded data removed]",
      "text/plain": [
       "<PIL.JpegImagePlugin.JpegImageFile image mode=RGB size=223x50 at 0x7F3B1ACE3A10>"
      ]
     },
     "execution_count": 18,
     "metadata": {},
     "output_type": "execute_result"
    }
   ],
   "source": [
    "# 测试验证码\n",
    "code = getCode()\n",
    "print code\n",
    "generateImage(code)"
   ]
  },
  {
   "cell_type": "markdown",
   "metadata": {},
   "source": [
    "### .定义神经网络结构"
   ]
  },
  {
   "cell_type": "code",
   "execution_count": 19,
   "metadata": {
    "collapsed": true
   },
   "outputs": [],
   "source": [
    "# 定义输入输出\n",
    "x = tf.placeholder(tf.float32, shape=[None, imageSize])\n",
    "y = tf.placeholder(tf.float32, shape=[None, len(charset) * captchaLength])   \n",
    "keep_prob = tf.placeholder(tf.float32)\n",
    "x_image = tf.reshape(x, shape=[-1, width, height, 1])"
   ]
  },
  {
   "cell_type": "code",
   "execution_count": 20,
   "metadata": {
    "collapsed": true
   },
   "outputs": [],
   "source": [
    "# 定义第一层卷积\n",
    "conv_layer1_weight = weight_variable([5, 5, 1, 32])\n",
    "conv_layer1_bias = bias_variable([32])\n",
    "pool_layer1 = max_pool(\n",
    "    tf.nn.relu(conv2d(x_image, conv_layer1_weight) + conv_layer1_bias))"
   ]
  },
  {
   "cell_type": "code",
   "execution_count": 21,
   "metadata": {
    "collapsed": true
   },
   "outputs": [],
   "source": [
    "# 定义第二层卷积\n",
    "conv_layer2_weight = weight_variable([5, 5, 32, 64])\n",
    "conv_layer2_bias = bias_variable([64])\n",
    "pool_layer2 = max_pool(\n",
    "    tf.nn.relu(conv2d(pool_layer1, conv_layer2_weight) + conv_layer2_bias)) "
   ]
  },
  {
   "cell_type": "code",
   "execution_count": 22,
   "metadata": {
    "collapsed": true
   },
   "outputs": [],
   "source": [
    "# 定义第三层卷积\n",
    "conv_layer3_weight = weight_variable([5, 5, 64, 64])\n",
    "conv_layer3_bias = bias_variable([64])\n",
    "pool_layer3 = max_pool(\n",
    "    tf.nn.relu(conv2d(pool_layer2, conv_layer3_weight) + conv_layer3_bias))"
   ]
  },
  {
   "cell_type": "code",
   "execution_count": 23,
   "metadata": {},
   "outputs": [
    {
     "data": {
      "text/plain": [
       "(28, 7)"
      ]
     },
     "execution_count": 23,
     "metadata": {},
     "output_type": "execute_result"
    }
   ],
   "source": [
    "lastWidth = int(math.ceil(width / 8))\n",
    "lastHeight = int(math.ceil(height / 8))\n",
    "lastWidth, lastHeight"
   ]
  },
  {
   "cell_type": "code",
   "execution_count": 24,
   "metadata": {
    "collapsed": true
   },
   "outputs": [],
   "source": [
    "# 定义全连接层\n",
    "fc_layer_weight = weight_variable([lastWidth * lastHeight * 64, 1024])\n",
    "fc_layer_bias = bias_variable([1024])\n",
    "pool_layer3_flat = tf.reshape(pool_layer3, [-1, lastWidth * lastHeight * 64])\n",
    "fc_layer = tf.nn.relu(tf.add(tf.matmul(pool_layer3_flat, fc_layer_weight), fc_layer_bias))"
   ]
  },
  {
   "cell_type": "code",
   "execution_count": 25,
   "metadata": {
    "collapsed": true
   },
   "outputs": [],
   "source": [
    "# Dropout层\n",
    "fc_layer_drop = tf.nn.dropout(fc_layer, keep_prob)"
   ]
  },
  {
   "cell_type": "code",
   "execution_count": 26,
   "metadata": {
    "collapsed": true
   },
   "outputs": [],
   "source": [
    "# Readout层(输出层)\n",
    "output_layer_weight = weight_variable([1024, len(charset) * captchaLength])   \n",
    "output_layer_bias = bias_variable([len(charset) * captchaLength])              \n",
    "y_conv = tf.add(tf.matmul(fc_layer_drop, output_layer_weight), output_layer_bias)"
   ]
  },
  {
   "cell_type": "code",
   "execution_count": 27,
   "metadata": {
    "collapsed": true
   },
   "outputs": [],
   "source": [
    "# 定义输出函数\n",
    "loss = tf.reduce_mean(tf.nn.sigmoid_cross_entropy_with_logits(labels=y, logits=y_conv))\n",
    "optimizer = tf.train.AdamOptimizer(alpha).minimize(loss)\n",
    "prediction = tf.argmax(tf.reshape(y_conv, [-1, captchaLength, len(charset)]), 2)\n",
    "correct = tf.argmax(tf.reshape(y, [-1, captchaLength, len(charset)]), 2)                                                           \n",
    "correct_prediction = tf.equal(prediction, correct)\n",
    "accuracy = tf.reduce_mean(tf.cast(correct_prediction, tf.float32))"
   ]
  },
  {
   "cell_type": "markdown",
   "metadata": {},
   "source": [
    "### .训练模型"
   ]
  },
  {
   "cell_type": "code",
   "execution_count": null,
   "metadata": {
    "collapsed": true
   },
   "outputs": [],
   "source": [
    "# 初始化session\n",
    "saver = tf.train.Saver()\n",
    "session = tf.Session()\n",
    "session.run(tf.global_variables_initializer())"
   ]
  },
  {
   "cell_type": "code",
   "execution_count": null,
   "metadata": {
    "scrolled": true
   },
   "outputs": [
    {
     "name": "stdout",
     "output_type": "stream",
     "text": [
      "[1]: loss: 0.702404 accuracy: 0.070000\n",
      "[2]: loss: 0.511867 accuracy: 0.050000\n",
      "[3]: loss: 0.232710 accuracy: 0.030000\n",
      "[4]: loss: 0.137326 accuracy: 0.070000\n",
      "[5]: loss: 0.207958 accuracy: 0.050000\n",
      "[6]: loss: 0.218135 accuracy: 0.080000\n",
      "[7]: loss: 0.185657 accuracy: 0.050000\n",
      "[8]: loss: 0.140093 accuracy: 0.110000\n",
      "[9]: loss: 0.126314 accuracy: 0.080000\n",
      "[10]: loss: 0.129601 accuracy: 0.090000\n",
      "[11]: loss: 0.136997 accuracy: 0.060000\n",
      "[12]: loss: 0.132847 accuracy: 0.030000\n",
      "[13]: loss: 0.120911 accuracy: 0.050000\n",
      "[14]: loss: 0.118644 accuracy: 0.030000\n",
      "[15]: loss: 0.120360 accuracy: 0.020000\n",
      "[16]: loss: 0.124637 accuracy: 0.020000\n",
      "[17]: loss: 0.122067 accuracy: 0.080000\n",
      "[18]: loss: 0.123719 accuracy: 0.090000\n",
      "[19]: loss: 0.124306 accuracy: 0.050000\n",
      "[20]: loss: 0.118891 accuracy: 0.050000\n",
      "[21]: loss: 0.112007 accuracy: 0.180000\n",
      "[22]: loss: 0.116054 accuracy: 0.070000\n",
      "[23]: loss: 0.115665 accuracy: 0.090000\n",
      "[24]: loss: 0.119615 accuracy: 0.060000\n",
      "[25]: loss: 0.117856 accuracy: 0.060000\n",
      "[26]: loss: 0.114854 accuracy: 0.080000\n",
      "[27]: loss: 0.115200 accuracy: 0.060000\n",
      "[28]: loss: 0.112879 accuracy: 0.040000\n",
      "[29]: loss: 0.112660 accuracy: 0.040000\n",
      "[30]: loss: 0.112952 accuracy: 0.080000\n",
      "[31]: loss: 0.112865 accuracy: 0.020000\n",
      "[32]: loss: 0.114033 accuracy: 0.090000\n",
      "[33]: loss: 0.113379 accuracy: 0.070000\n",
      "[34]: loss: 0.113558 accuracy: 0.080000\n",
      "[35]: loss: 0.114396 accuracy: 0.020000\n",
      "[36]: loss: 0.112298 accuracy: 0.050000\n",
      "[37]: loss: 0.111749 accuracy: 0.060000\n",
      "[38]: loss: 0.112336 accuracy: 0.060000\n",
      "[39]: loss: 0.112160 accuracy: 0.060000\n",
      "[40]: loss: 0.110815 accuracy: 0.070000\n",
      "[41]: loss: 0.110728 accuracy: 0.130000\n",
      "[42]: loss: 0.112265 accuracy: 0.070000\n",
      "[43]: loss: 0.112607 accuracy: 0.050000\n",
      "[44]: loss: 0.111033 accuracy: 0.100000\n",
      "[45]: loss: 0.109944 accuracy: 0.090000\n",
      "[46]: loss: 0.112100 accuracy: 0.100000\n",
      "[47]: loss: 0.112806 accuracy: 0.080000\n",
      "[48]: loss: 0.112929 accuracy: 0.070000\n",
      "[49]: loss: 0.113951 accuracy: 0.090000\n",
      "[50]: loss: 0.112423 accuracy: 0.070000\n",
      "[51]: loss: 0.112649 accuracy: 0.040000\n",
      "[52]: loss: 0.111551 accuracy: 0.070000\n",
      "[53]: loss: 0.110051 accuracy: 0.080000\n",
      "[54]: loss: 0.111789 accuracy: 0.110000\n",
      "[55]: loss: 0.111770 accuracy: 0.060000\n",
      "[56]: loss: 0.111338 accuracy: 0.050000\n",
      "[57]: loss: 0.109738 accuracy: 0.110000\n",
      "[58]: loss: 0.111345 accuracy: 0.020000\n",
      "[59]: loss: 0.111759 accuracy: 0.050000\n",
      "[60]: loss: 0.111409 accuracy: 0.050000\n",
      "[61]: loss: 0.113267 accuracy: 0.100000\n",
      "[62]: loss: 0.109869 accuracy: 0.090000\n",
      "[63]: loss: 0.109600 accuracy: 0.120000\n",
      "[64]: loss: 0.111212 accuracy: 0.100000\n",
      "[65]: loss: 0.111890 accuracy: 0.070000\n",
      "[66]: loss: 0.111025 accuracy: 0.080000\n",
      "[67]: loss: 0.111153 accuracy: 0.110000\n",
      "[68]: loss: 0.112188 accuracy: 0.100000\n",
      "[69]: loss: 0.112735 accuracy: 0.110000\n",
      "[70]: loss: 0.110584 accuracy: 0.090000\n",
      "[71]: loss: 0.111489 accuracy: 0.100000\n",
      "[72]: loss: 0.110942 accuracy: 0.120000\n",
      "[73]: loss: 0.109556 accuracy: 0.120000\n",
      "[74]: loss: 0.111403 accuracy: 0.090000\n",
      "[75]: loss: 0.109745 accuracy: 0.130000\n",
      "[76]: loss: 0.111637 accuracy: 0.080000\n",
      "[77]: loss: 0.111442 accuracy: 0.070000\n",
      "[78]: loss: 0.109135 accuracy: 0.110000\n",
      "[79]: loss: 0.110930 accuracy: 0.100000\n",
      "[80]: loss: 0.112428 accuracy: 0.070000\n",
      "[81]: loss: 0.112788 accuracy: 0.080000\n",
      "[82]: loss: 0.111622 accuracy: 0.050000\n",
      "[83]: loss: 0.112455 accuracy: 0.120000\n"
     ]
    }
   ],
   "source": [
    "for step in range(1, 3000):\n",
    "    imageList, codeList = getData(100)\n",
    "    codeList = map(lambda x: x[index], codeList) # changed \n",
    "    x_data = map(imageToVertor, imageList)\n",
    "    y_data = map(codeToVertor, codeList)\n",
    "    _, l, a = session.run([optimizer, loss, accuracy], feed_dict={x: x_data, y: y_data, keep_prob: .75})\n",
    "    saver.save(session, 'model/%s/model' % index)\n",
    "    print '[%d]: loss: %f accuracy: %f' % (step, l, a)"
   ]
  },
  {
   "cell_type": "code",
   "execution_count": null,
   "metadata": {
    "collapsed": true
   },
   "outputs": [],
   "source": [
    "nodes = {\n",
    "    'x': x.name,\n",
    "    'y': y.name,\n",
    "    'prediction': prediction.name,\n",
    "    'keep_prob': keep_prob.name,    \n",
    "}\n",
    "pickle.dump(nodes, open('model/%s/nodes.pk' % index, 'wb'))"
   ]
  },
  {
   "cell_type": "markdown",
   "metadata": {
    "collapsed": true
   },
   "source": [
    "### .测试模型效果"
   ]
  },
  {
   "cell_type": "markdown",
   "metadata": {},
   "source": [
    "#### (1). 训练集测试"
   ]
  },
  {
   "cell_type": "code",
   "execution_count": null,
   "metadata": {},
   "outputs": [],
   "source": [
    "imageList, codeList = getData(1)\n",
    "x_data = map(imageToVertor, imageList)\n",
    "y_data = map(codeToVertor, codeList)\n",
    "p, l = session.run([prediction, loss], feed_dict={x: x_data, y: y_data, keep_prob: .75})\n",
    "print 'code:', codeList[index]\n",
    "print 'prediction:', map(lambda x: charset[x], p[0])\n",
    "print 'loss:', l\n",
    "imageList[0]"
   ]
  },
  {
   "cell_type": "markdown",
   "metadata": {},
   "source": [
    "#### (2). 实际测试"
   ]
  },
  {
   "cell_type": "code",
   "execution_count": null,
   "metadata": {},
   "outputs": [],
   "source": [
    "# url = 'https://s.nacao.org.cn/servlet/ValidateCode?time='\n",
    "# response = requests.get(url)\n",
    "# image = Image.open(StringIO(response.content))\n",
    "# imageList, codeList = [image], ['ca358']\n",
    "# x_data = map(imageToVertor, imageList)\n",
    "# y_data = map(codeToVertor, codeList)\n",
    "# p, l = session.run([prediction, loss], feed_dict={x: x_data, y: y_data, keep_prob: .75})\n",
    "# print 'prediction:', map(lambda x: charset[x], p[0])\n",
    "# print 'loss:', l\n",
    "# image"
   ]
  },
  {
   "cell_type": "code",
   "execution_count": null,
   "metadata": {},
   "outputs": [],
   "source": [
    "url = 'https://s.nacao.org.cn/servlet/ValidateCode?time='\n",
    "response = requests.get(url)\n",
    "image = Image.open(StringIO(response.content))\n",
    "imageList = [image]\n",
    "x_data = map(imageToVertor, imageList)\n",
    "p = session.run(prediction, feed_dict={x: x_data, keep_prob: 1})\n",
    "print 'prediction:', map(lambda x: charset[x], p[0])\n",
    "image"
   ]
  }
 ],
 "metadata": {
  "kernelspec": {
   "display_name": "Python 2",
   "language": "python",
   "name": "python2"
  },
  "language_info": {
   "codemirror_mode": {
    "name": "ipython",
    "version": 2
   },
   "file_extension": ".py",
   "mimetype": "text/x-python",
   "name": "python",
   "nbconvert_exporter": "python",
   "pygments_lexer": "ipython2",
   "version": "2.7.12"
  }
 },
 "nbformat": 4,
 "nbformat_minor": 2
}
