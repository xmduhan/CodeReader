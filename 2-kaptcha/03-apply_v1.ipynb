{
 "cells": [
  {
   "cell_type": "code",
   "execution_count": 1,
   "metadata": {},
   "outputs": [],
   "source": [
    "import pickle\n",
    "import requests\n",
    "import numpy as np\n",
    "from os import path\n",
    "import tensorflow as tf\n",
    "from PIL import Image\n",
    "from StringIO import StringIO\n",
    "from string import lowercase, digits"
   ]
  },
  {
   "cell_type": "code",
   "execution_count": 2,
   "metadata": {},
   "outputs": [
    {
     "data": {
      "text/plain": [
       "'0123456789abcdefghijklmnopqrstuvwxyz'"
      ]
     },
     "execution_count": 2,
     "metadata": {},
     "output_type": "execute_result"
    }
   ],
   "source": [
    "charset = digits + lowercase\n",
    "charset"
   ]
  },
  {
   "cell_type": "code",
   "execution_count": 3,
   "metadata": {
    "collapsed": true
   },
   "outputs": [],
   "source": [
    "def imageToVertor(image):\n",
    "    \"\"\" 将图片转化为向量表示 \"\"\"\n",
    "    width = image.width\n",
    "    height = image.height\n",
    "    image = image.convert(\"L\")\n",
    "    image = np.asarray(image)\n",
    "    image = image.reshape([width * height]) / 255\n",
    "    return image"
   ]
  },
  {
   "cell_type": "code",
   "execution_count": 4,
   "metadata": {
    "collapsed": true
   },
   "outputs": [],
   "source": [
    "index = 1"
   ]
  },
  {
   "cell_type": "code",
   "execution_count": 5,
   "metadata": {},
   "outputs": [
    {
     "name": "stdout",
     "output_type": "stream",
     "text": [
      "INFO:tensorflow:Restoring parameters from model/1/model-2999\n"
     ]
    }
   ],
   "source": [
    "session=tf.Session()    \n",
    "modelPath = 'model/%s' % index\n",
    "modelName = tf.train.latest_checkpoint(modelPath)\n",
    "saver = tf.train.import_meta_graph(modelName + '.meta')\n",
    "saver.restore(session, modelName)\n",
    "nodes = pickle.load(open(path.join(modelPath, 'nodes.pk'), \"rU\" ))"
   ]
  },
  {
   "cell_type": "code",
   "execution_count": 6,
   "metadata": {
    "collapsed": true
   },
   "outputs": [],
   "source": [
    "graph = tf.get_default_graph()\n",
    "x = graph.get_tensor_by_name(nodes['x'])\n",
    "prediction = graph.get_tensor_by_name(nodes['prediction'])\n",
    "keep_prob = graph.get_tensor_by_name(nodes['keep_prob'])"
   ]
  },
  {
   "cell_type": "code",
   "execution_count": 7,
   "metadata": {},
   "outputs": [],
   "source": [
    "# x = session.graph.get_tensor_by_name(nodes['x'])\n",
    "# prediction = session.graph.get_tensor_by_name(nodes['prediction'])\n",
    "# keep_prob = session.graph.get_tensor_by_name(nodes['keep_prob'])"
   ]
  },
  {
   "cell_type": "code",
   "execution_count": 8,
   "metadata": {},
   "outputs": [],
   "source": [
    "url = 'https://s.nacao.org.cn/servlet/ValidateCode?time='\n",
    "response = requests.get(url)\n",
    "image = Image.open(StringIO(response.content))"
   ]
  },
  {
   "cell_type": "code",
   "execution_count": 12,
   "metadata": {},
   "outputs": [
    {
     "name": "stdout",
     "output_type": "stream",
     "text": [
      "prediction: ['5']\n"
     ]
    },
    {
     "data": {
      "image/png": "[encoded data removed]",
      "text/plain": [
       "<PIL.JpegImagePlugin.JpegImageFile image mode=RGB size=223x50 at 0x7FA5F37247D0>"
      ]
     },
     "execution_count": 12,
     "metadata": {},
     "output_type": "execute_result"
    }
   ],
   "source": [
    "imageList = [image]\n",
    "x_data = map(imageToVertor, imageList)\n",
    "p = session.run(prediction, feed_dict={x: x_data, keep_prob: .75})\n",
    "print 'prediction:', map(lambda x: charset[x], p[0])\n",
    "image"
   ]
  },
  {
   "cell_type": "code",
   "execution_count": 10,
   "metadata": {},
   "outputs": [
    {
     "name": "stdout",
     "output_type": "stream",
     "text": [
      "0  1  2  3  4\r\n"
     ]
    }
   ],
   "source": [
    "!ls model"
   ]
  }
 ],
 "metadata": {
  "kernelspec": {
   "display_name": "Python 2",
   "language": "python",
   "name": "python2"
  },
  "language_info": {
   "codemirror_mode": {
    "name": "ipython",
    "version": 2
   },
   "file_extension": ".py",
   "mimetype": "text/x-python",
   "name": "python",
   "nbconvert_exporter": "python",
   "pygments_lexer": "ipython2",
   "version": "2.7.12"
  }
 },
 "nbformat": 4,
 "nbformat_minor": 2
}
