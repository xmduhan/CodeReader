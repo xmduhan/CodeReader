{
 "cells": [
  {
   "cell_type": "code",
   "execution_count": 1,
   "metadata": {
    "collapsed": true
   },
   "outputs": [],
   "source": [
    "from __future__ import division\n",
    "import os\n",
    "import pickle\n",
    "import tensorflow as tf\n",
    "from helper import create_model\n",
    "from helper import getData\n",
    "from helper import imageToVertor\n",
    "from helper import codeToVertor\n",
    "from define import codeLength"
   ]
  },
  {
   "cell_type": "code",
   "execution_count": 4,
   "metadata": {},
   "outputs": [
    {
     "name": "stdout",
     "output_type": "stream",
     "text": [
      "INFO:tensorflow:Restoring parameters from model/0/model\n",
      "[0]: loss: 0.337273 accuracy: 0.060000\n",
      "[1]: loss: 0.330546 accuracy: 0.050000\n",
      "[2]: loss: 0.329361 accuracy: 0.140000\n",
      "[3]: loss: 0.342523 accuracy: 0.060000\n",
      "[4]: loss: 0.342116 accuracy: 0.040000\n",
      "[5]: loss: 0.333872 accuracy: 0.110000\n",
      "[6]: loss: 0.328212 accuracy: 0.120000\n",
      "[7]: loss: 0.330512 accuracy: 0.100000\n",
      "[8]: loss: 0.332505 accuracy: 0.100000\n",
      "[9]: loss: 0.338434 accuracy: 0.040000\n",
      "INFO:tensorflow:Restoring parameters from model/1/model\n",
      "[0]: loss: 0.338622 accuracy: 0.140000\n",
      "[1]: loss: 0.322804 accuracy: 0.110000\n",
      "[2]: loss: 0.334858 accuracy: 0.120000\n",
      "[3]: loss: 0.341834 accuracy: 0.090000\n",
      "[4]: loss: 0.340734 accuracy: 0.070000\n",
      "[5]: loss: 0.336497 accuracy: 0.090000\n",
      "[6]: loss: 0.328081 accuracy: 0.140000\n",
      "[7]: loss: 0.330561 accuracy: 0.070000\n",
      "[8]: loss: 0.331464 accuracy: 0.100000\n",
      "[9]: loss: 0.331322 accuracy: 0.140000\n",
      "INFO:tensorflow:Restoring parameters from model/2/model\n",
      "[0]: loss: 0.336523 accuracy: 0.150000\n",
      "[1]: loss: 0.327101 accuracy: 0.100000\n",
      "[2]: loss: 0.331486 accuracy: 0.060000\n",
      "[3]: loss: 0.336357 accuracy: 0.050000\n",
      "[4]: loss: 0.334919 accuracy: 0.080000\n",
      "[5]: loss: 0.328671 accuracy: 0.170000\n",
      "[6]: loss: 0.333215 accuracy: 0.160000\n",
      "[7]: loss: 0.332201 accuracy: 0.120000\n",
      "[8]: loss: 0.334072 accuracy: 0.090000\n",
      "[9]: loss: 0.335555 accuracy: 0.080000\n",
      "INFO:tensorflow:Restoring parameters from model/3/model\n",
      "[0]: loss: 0.339940 accuracy: 0.060000\n",
      "[1]: loss: 0.328619 accuracy: 0.050000\n",
      "[2]: loss: 0.328443 accuracy: 0.160000\n",
      "[3]: loss: 0.344277 accuracy: 0.080000\n",
      "[4]: loss: 0.357238 accuracy: 0.080000\n",
      "[5]: loss: 0.349764 accuracy: 0.100000\n",
      "[6]: loss: 0.343393 accuracy: 0.090000\n",
      "[7]: loss: 0.326202 accuracy: 0.140000\n",
      "[8]: loss: 0.327186 accuracy: 0.120000\n",
      "[9]: loss: 0.336724 accuracy: 0.070000\n"
     ]
    }
   ],
   "source": [
    "for index in range(codeLength):\n",
    "\n",
    "    model_path = 'model/%s/' % index\n",
    "    model_file_name = os.path.join(model_path, 'model')\n",
    "    nodes_file_name = os.path.join(model_path, 'nodes.pk')\n",
    "    if not os.path.exists(nodes_file_name):\n",
    "        create_model(model_path)\n",
    "\n",
    "    with tf.Session() as session:\n",
    "        # 导入模型定义\n",
    "        saver = tf.train.import_meta_graph(model_file_name + '.meta')\n",
    "        saver.restore(session, model_file_name)\n",
    "        nodes = nodes = pickle.load(open(nodes_file_name, \"rU\"))\n",
    "        x = session.graph.get_tensor_by_name(nodes['x'])\n",
    "        y = session.graph.get_tensor_by_name(nodes['y'])\n",
    "        keep_prob = session.graph.get_tensor_by_name(nodes['keep_prob'])\n",
    "        loss = session.graph.get_tensor_by_name(nodes['loss'])\n",
    "        accuracy = session.graph.get_tensor_by_name(nodes['accuracy'])\n",
    "        optimizer = session.graph.get_operation_by_name(nodes['optimizer'])\n",
    "\n",
    "        # 训练模型\n",
    "        for step in range(10):\n",
    "            imageList, codeList = getData(100)\n",
    "            codeList = map(lambda x: x[index], codeList)\n",
    "            x_data = map(imageToVertor, imageList)\n",
    "            y_data = map(codeToVertor, codeList)\n",
    "            _, l, a = session.run(\n",
    "                [optimizer, loss, accuracy], \n",
    "                feed_dict={x: x_data, y: y_data, keep_prob: .75})\n",
    "            saver.save(session, model_file_name)\n",
    "            print '[%d]: loss: %f accuracy: %f' % (step, l, a)\n",
    "            if a >= .90:\n",
    "                break"
   ]
  }
 ],
 "metadata": {
  "kernelspec": {
   "display_name": "Python 2",
   "language": "python",
   "name": "python2"
  },
  "language_info": {
   "codemirror_mode": {
    "name": "ipython",
    "version": 2
   },
   "file_extension": ".py",
   "mimetype": "text/x-python",
   "name": "python",
   "nbconvert_exporter": "python",
   "pygments_lexer": "ipython2",
   "version": "2.7.12"
  }
 },
 "nbformat": 4,
 "nbformat_minor": 2
}
