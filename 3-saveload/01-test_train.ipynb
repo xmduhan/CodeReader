{
 "cells": [
  {
   "cell_type": "code",
   "execution_count": 1,
   "metadata": {
    "collapsed": true
   },
   "outputs": [],
   "source": [
    "from __future__ import division\n",
    "import os\n",
    "import pickle\n",
    "import numpy as np\n",
    "import pandas as pd\n",
    "import tensorflow as tf\n",
    "from collections import deque\n",
    "from helper import getData\n",
    "from helper import create_model\n",
    "from helper import imageToVertor\n",
    "from helper import codeToVertor\n",
    "from define import codeLength"
   ]
  },
  {
   "cell_type": "code",
   "execution_count": null,
   "metadata": {
    "scrolled": true
   },
   "outputs": [
    {
     "name": "stdout",
     "output_type": "stream",
     "text": [
      "INFO:tensorflow:Restoring parameters from model/0/model\n",
      "[0(1/4):0]: loss: 0.085606, accuracy: 0.830000, accuracy mean: 0.830000\n",
      "[0(1/4):1]: loss: 0.071040, accuracy: 0.860000, accuracy mean: 0.845000\n",
      "[0(1/4):2]: loss: 0.051783, accuracy: 0.940000, accuracy mean: 0.876667\n",
      "[0(1/4):3]: loss: 0.078656, accuracy: 0.830000, accuracy mean: 0.865000\n",
      "[0(1/4):4]: loss: 0.071318, accuracy: 0.900000, accuracy mean: 0.872000\n",
      "[0(1/4):5]: loss: 0.067236, accuracy: 0.860000, accuracy mean: 0.870000\n",
      "[0(1/4):6]: loss: 0.060358, accuracy: 0.900000, accuracy mean: 0.874286\n",
      "[0(1/4):7]: loss: 0.110076, accuracy: 0.780000, accuracy mean: 0.862500\n",
      "[0(1/4):8]: loss: 0.075075, accuracy: 0.890000, accuracy mean: 0.865556\n",
      "[0(1/4):9]: loss: 0.071675, accuracy: 0.840000, accuracy mean: 0.863000\n",
      "[0(1/4):10]: loss: 0.052960, accuracy: 0.900000, accuracy mean: 0.866364\n",
      "[0(1/4):11]: loss: 0.059965, accuracy: 0.890000, accuracy mean: 0.868333\n",
      "[0(1/4):12]: loss: 0.081915, accuracy: 0.800000, accuracy mean: 0.863077\n",
      "[0(1/4):13]: loss: 0.080415, accuracy: 0.850000, accuracy mean: 0.862143\n",
      "[0(1/4):14]: loss: 0.087046, accuracy: 0.810000, accuracy mean: 0.858667\n",
      "[0(1/4):15]: loss: 0.087902, accuracy: 0.840000, accuracy mean: 0.857500\n",
      "[0(1/4):16]: loss: 0.083201, accuracy: 0.860000, accuracy mean: 0.857647\n",
      "[0(1/4):17]: loss: 0.082760, accuracy: 0.860000, accuracy mean: 0.857778\n",
      "[0(1/4):18]: loss: 0.087077, accuracy: 0.790000, accuracy mean: 0.854210\n",
      "[0(1/4):19]: loss: 0.072456, accuracy: 0.850000, accuracy mean: 0.854000\n",
      "[0(1/4):20]: loss: 0.067830, accuracy: 0.860000, accuracy mean: 0.854286\n",
      "[0(1/4):21]: loss: 0.058858, accuracy: 0.920000, accuracy mean: 0.857273\n",
      "[0(1/4):22]: loss: 0.085525, accuracy: 0.870000, accuracy mean: 0.857826\n",
      "[0(1/4):23]: loss: 0.050284, accuracy: 0.900000, accuracy mean: 0.859583\n",
      "[0(1/4):24]: loss: 0.087564, accuracy: 0.800000, accuracy mean: 0.857200\n"
     ]
    }
   ],
   "source": [
    "for i, index in enumerate(range(codeLength), 1):\n",
    "    model_path = 'model/%s/' % index\n",
    "    model_file_name = os.path.join(model_path, 'model')\n",
    "    nodes_file_name = os.path.join(model_path, 'nodes.pk')\n",
    "    if not os.path.exists(nodes_file_name):\n",
    "        create_model(model_path)\n",
    "\n",
    "    stat_length = 30\n",
    "    recent_accuracy = deque(maxlen=stat_length)\n",
    "    graph = tf.Graph()\n",
    "    config = tf.ConfigProto(intra_op_parallelism_threads=2)\n",
    "    session = tf.Session(graph=graph, config=config)\n",
    "    with session.graph.as_default():\n",
    "        # 导入模型定义\n",
    "        saver = tf.train.import_meta_graph(model_file_name + '.meta')\n",
    "        saver.restore(session, model_file_name)\n",
    "        nodes = pickle.load(open(nodes_file_name, \"rU\"))\n",
    "        x = session.graph.get_tensor_by_name(nodes['x'])\n",
    "        y = session.graph.get_tensor_by_name(nodes['y'])\n",
    "        keep_prob = session.graph.get_tensor_by_name(nodes['keep_prob'])\n",
    "        loss = session.graph.get_tensor_by_name(nodes['loss'])\n",
    "        accuracy = session.graph.get_tensor_by_name(nodes['accuracy'])\n",
    "        optimizer = session.graph.get_operation_by_name(nodes['optimizer'])\n",
    "\n",
    "        # 训练模型\n",
    "        for step in range(100000):\n",
    "            imageList, codeList = getData(100)\n",
    "            codeList = map(lambda x: x[index], codeList)\n",
    "            x_data = map(imageToVertor, imageList)\n",
    "            y_data = map(codeToVertor, codeList)\n",
    "            _, l, a = session.run(\n",
    "                [optimizer, loss, accuracy], \n",
    "                feed_dict={x: x_data, y: y_data, keep_prob: .75})\n",
    "            if step % 10 == 0:\n",
    "                saver.save(session, model_file_name)\n",
    "            recent_accuracy.append(a)\n",
    "            mean_of_accuracy = pd.Series(recent_accuracy).mean()\n",
    "            format_string = '[%d(%d/%d):%d]: loss: %f, accuracy: %f, accuracy mean: %f'\n",
    "            print format_string % (index, i, codeLength, step, l, a, mean_of_accuracy)\n",
    "            if len(recent_accuracy) == stat_length:\n",
    "                if mean_of_accuracy >= .90:\n",
    "                    break"
   ]
  }
 ],
 "metadata": {
  "kernelspec": {
   "display_name": "Python 2",
   "language": "python",
   "name": "python2"
  },
  "language_info": {
   "codemirror_mode": {
    "name": "ipython",
    "version": 2
   },
   "file_extension": ".py",
   "mimetype": "text/x-python",
   "name": "python",
   "nbconvert_exporter": "python",
   "pygments_lexer": "ipython2",
   "version": "2.7.12"
  }
 },
 "nbformat": 4,
 "nbformat_minor": 2
}
