{
 "cells": [
  {
   "cell_type": "code",
   "execution_count": 1,
   "metadata": {
    "collapsed": true
   },
   "outputs": [],
   "source": [
    "from __future__ import division\n",
    "import os\n",
    "import pickle\n",
    "import tensorflow as tf\n",
    "from helper import create_model\n",
    "from helper import getData\n",
    "from helper import imageToVertor\n",
    "from helper import codeToVertor\n",
    "from define import codeLength\n",
    "from define import charset"
   ]
  },
  {
   "cell_type": "code",
   "execution_count": 9,
   "metadata": {},
   "outputs": [
    {
     "name": "stdout",
     "output_type": "stream",
     "text": [
      "INFO:tensorflow:Restoring parameters from model/0/model\n",
      "INFO:tensorflow:Restoring parameters from model/1/model\n",
      "INFO:tensorflow:Restoring parameters from model/2/model\n",
      "INFO:tensorflow:Restoring parameters from model/3/model\n"
     ]
    }
   ],
   "source": [
    "from reader import read_code"
   ]
  },
  {
   "cell_type": "code",
   "execution_count": 54,
   "metadata": {},
   "outputs": [
    {
     "name": "stdout",
     "output_type": "stream",
     "text": [
      "['8', '6', '5', '2']\n"
     ]
    },
    {
     "data": {
      "image/png": "[encoded data removed]",
      "text/plain": [
       "<PIL.Image.Image image mode=RGB size=100x60 at 0x7F4F140087D0>"
      ]
     },
     "execution_count": 54,
     "metadata": {},
     "output_type": "execute_result"
    }
   ],
   "source": [
    "imageList, codeList = getData(1)\n",
    "image = imageList[0]\n",
    "print read_code(image)\n",
    "image"
   ]
  },
  {
   "cell_type": "code",
   "execution_count": 39,
   "metadata": {},
   "outputs": [
    {
     "data": {
      "text/plain": [
       "['8', '0', '5', '2']"
      ]
     },
     "execution_count": 39,
     "metadata": {},
     "output_type": "execute_result"
    }
   ],
   "source": []
  },
  {
   "cell_type": "code",
   "execution_count": 24,
   "metadata": {},
   "outputs": [
    {
     "data": {
      "text/plain": [
       "['4', '3', '5', '2']"
      ]
     },
     "execution_count": 24,
     "metadata": {},
     "output_type": "execute_result"
    }
   ],
   "source": []
  },
  {
   "cell_type": "code",
   "execution_count": 2,
   "metadata": {},
   "outputs": [
    {
     "name": "stdout",
     "output_type": "stream",
     "text": [
      "INFO:tensorflow:Restoring parameters from model/0/model\n",
      "INFO:tensorflow:Restoring parameters from model/1/model\n",
      "INFO:tensorflow:Restoring parameters from model/2/model\n",
      "INFO:tensorflow:Restoring parameters from model/3/model\n"
     ]
    }
   ],
   "source": [
    "modelList = []\n",
    "for index in range(codeLength):\n",
    "    model_path = 'model/%s/' % index\n",
    "    model_file_name = os.path.join(model_path, 'model')\n",
    "    nodes_file_name = os.path.join(model_path, 'nodes.pk')\n",
    "    \n",
    "    model = {}\n",
    "    session = tf.Session() \n",
    "    saver = tf.train.import_meta_graph(model_file_name + '.meta')\n",
    "    saver.restore(session, model_file_name)\n",
    "    nodes = pickle.load(open(nodes_file_name, 'rU'))\n",
    "    x = session.graph.get_tensor_by_name(nodes['x'])\n",
    "    keep_prob = session.graph.get_tensor_by_name(nodes['keep_prob'])\n",
    "    prediction = session.graph.get_tensor_by_name(nodes['prediction'])\n",
    "    \n",
    "    model['session'] = session\n",
    "    model['x'] = x\n",
    "    model['keep_prob'] = keep_prob\n",
    "    model['prediction'] = prediction\n",
    "    modelList.append(model)"
   ]
  },
  {
   "cell_type": "markdown",
   "metadata": {},
   "source": [
    "### .预测第1个字符"
   ]
  },
  {
   "cell_type": "code",
   "execution_count": 4,
   "metadata": {},
   "outputs": [
    {
     "name": "stdout",
     "output_type": "stream",
     "text": [
      "INFO:tensorflow:Restoring parameters from model/0/model\n"
     ]
    }
   ],
   "source": [
    "index = 0\n",
    "model_path = 'model/%s/' % index\n",
    "model_file_name = os.path.join(model_path, 'model')\n",
    "nodes_file_name = os.path.join(model_path, 'nodes.pk')\n",
    "\n",
    "session0 = tf.Session() \n",
    "saver0 = tf.train.import_meta_graph(model_file_name + '.meta')\n",
    "saver0.restore(session0, model_file_name)\n",
    "nodes0 = pickle.load(open(nodes_file_name, 'rU'))\n",
    "x0 = session0.graph.get_tensor_by_name(nodes0['x'])\n",
    "y0 = session0.graph.get_tensor_by_name(nodes0['y'])\n",
    "keep_prob0 = session0.graph.get_tensor_by_name(nodes0['keep_prob'])\n",
    "prediction0 = session0.graph.get_tensor_by_name(nodes0['prediction'])"
   ]
  },
  {
   "cell_type": "code",
   "execution_count": 5,
   "metadata": {},
   "outputs": [
    {
     "name": "stdout",
     "output_type": "stream",
     "text": [
      "real: 3\n",
      "prediction: 2\n"
     ]
    },
    {
     "data": {
      "image/png": "[encoded data removed]",
      "text/plain": [
       "<PIL.Image.Image image mode=RGB size=100x60 at 0x7F4F5B001510>"
      ]
     },
     "execution_count": 5,
     "metadata": {},
     "output_type": "execute_result"
    }
   ],
   "source": [
    "index = 0\n",
    "imageList, codeList = getData(1)\n",
    "codeList = map(lambda x: x[index], codeList)\n",
    "x_data = map(imageToVertor, imageList)\n",
    "y_data = map(codeToVertor, codeList)\n",
    "p = session0.run(prediction0, feed_dict={x0: x_data, keep_prob0: 1})\n",
    "print 'real:', codeList[0]\n",
    "print 'prediction:', charset[p[0][0]]\n",
    "imageList[0]"
   ]
  },
  {
   "cell_type": "markdown",
   "metadata": {},
   "source": [
    "### .预测第2个字符"
   ]
  },
  {
   "cell_type": "code",
   "execution_count": null,
   "metadata": {},
   "outputs": [],
   "source": [
    "index = 1\n",
    "model_path = 'model/%s/' % index\n",
    "model_file_name = os.path.join(model_path, 'model')\n",
    "nodes_file_name = os.path.join(model_path, 'nodes.pk')\n",
    "\n",
    "session1 = tf.Session() \n",
    "saver1 = tf.train.import_meta_graph(model_file_name + '.meta')\n",
    "saver1.restore(session1, model_file_name)\n",
    "nodes1 = pickle.load(open(nodes_file_name, 'rU'))\n",
    "x1 = session1.graph.get_tensor_by_name(nodes1['x'])\n",
    "y1 = session1.graph.get_tensor_by_name(nodes1['y'])\n",
    "keep_prob1 = session1.graph.get_tensor_by_name(nodes1['keep_prob'])\n",
    "prediction1 = session1.graph.get_tensor_by_name(nodes1['prediction'])"
   ]
  },
  {
   "cell_type": "code",
   "execution_count": null,
   "metadata": {},
   "outputs": [],
   "source": [
    "index = 1\n",
    "imageList, codeList = getData(1)\n",
    "codeList = map(lambda x: x[index], codeList)\n",
    "x_data = map(imageToVertor, imageList)\n",
    "y_data = map(codeToVertor, codeList)\n",
    "p = session1.run(prediction1, feed_dict={x1: x_data, keep_prob1: .1})\n",
    "print 'real:', codeList[0]\n",
    "print 'prediction:', charset[p[0][0]]\n",
    "imageList[0]"
   ]
  }
 ],
 "metadata": {
  "kernelspec": {
   "display_name": "Python 2",
   "language": "python",
   "name": "python2"
  },
  "language_info": {
   "codemirror_mode": {
    "name": "ipython",
    "version": 2
   },
   "file_extension": ".py",
   "mimetype": "text/x-python",
   "name": "python",
   "nbconvert_exporter": "python",
   "pygments_lexer": "ipython2",
   "version": "2.7.12"
  }
 },
 "nbformat": 4,
 "nbformat_minor": 2
}
