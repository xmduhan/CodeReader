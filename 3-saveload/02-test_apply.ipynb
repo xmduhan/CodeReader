{
 "cells": [
  {
   "cell_type": "code",
   "execution_count": 1,
   "metadata": {
    "collapsed": true
   },
   "outputs": [],
   "source": [
    "from __future__ import division\n",
    "import os\n",
    "import pickle\n",
    "import tensorflow as tf\n",
    "from helper import create_model\n",
    "from helper import getData\n",
    "from helper import imageToVertor\n",
    "from helper import codeToVertor\n",
    "from define import codeLength\n",
    "from define import charset"
   ]
  },
  {
   "cell_type": "markdown",
   "metadata": {},
   "source": [
    "### .预测第1个字符"
   ]
  },
  {
   "cell_type": "code",
   "execution_count": 2,
   "metadata": {},
   "outputs": [
    {
     "name": "stdout",
     "output_type": "stream",
     "text": [
      "INFO:tensorflow:Restoring parameters from model/0/model\n"
     ]
    }
   ],
   "source": [
    "index = 0\n",
    "model_path = 'model/%s/' % index\n",
    "model_file_name = os.path.join(model_path, 'model')\n",
    "nodes_file_name = os.path.join(model_path, 'nodes.pk')\n",
    "\n",
    "session0 = tf.Session() \n",
    "saver0 = tf.train.import_meta_graph(model_file_name + '.meta')\n",
    "saver0.restore(session0, model_file_name)\n",
    "nodes0 = pickle.load(open(nodes_file_name, 'rU'))\n",
    "x0 = session0.graph.get_tensor_by_name(nodes0['x'])\n",
    "y0 = session0.graph.get_tensor_by_name(nodes0['y'])\n",
    "keep_prob0 = session0.graph.get_tensor_by_name(nodes0['keep_prob'])\n",
    "prediction0 = session0.graph.get_tensor_by_name(nodes0['prediction'])"
   ]
  },
  {
   "cell_type": "code",
   "execution_count": 4,
   "metadata": {},
   "outputs": [
    {
     "name": "stdout",
     "output_type": "stream",
     "text": [
      "real: 7\n",
      "prediction: 7\n"
     ]
    },
    {
     "data": {
      "image/png": "[encoded data removed]",
      "text/plain": [
       "<PIL.Image.Image image mode=RGB size=100x60 at 0x7F1392740D50>"
      ]
     },
     "execution_count": 4,
     "metadata": {},
     "output_type": "execute_result"
    }
   ],
   "source": [
    "index = 0\n",
    "imageList, codeList = getData(1)\n",
    "codeList = map(lambda x: x[index], codeList)\n",
    "x_data = map(imageToVertor, imageList)\n",
    "y_data = map(codeToVertor, codeList)\n",
    "p = session0.run(prediction0, feed_dict={x0: x_data, keep_prob0: 1})\n",
    "print 'real:', codeList[0]\n",
    "print 'prediction:', charset[p[0][0]]\n",
    "imageList[0]"
   ]
  },
  {
   "cell_type": "markdown",
   "metadata": {},
   "source": [
    "### .预测第2个字符"
   ]
  },
  {
   "cell_type": "code",
   "execution_count": 5,
   "metadata": {},
   "outputs": [
    {
     "name": "stdout",
     "output_type": "stream",
     "text": [
      "INFO:tensorflow:Restoring parameters from model/1/model\n"
     ]
    }
   ],
   "source": [
    "index = 1\n",
    "model_path = 'model/%s/' % index\n",
    "model_file_name = os.path.join(model_path, 'model')\n",
    "nodes_file_name = os.path.join(model_path, 'nodes.pk')\n",
    "\n",
    "session1 = tf.Session() \n",
    "saver1 = tf.train.import_meta_graph(model_file_name + '.meta')\n",
    "saver1.restore(session1, model_file_name)\n",
    "nodes1 = pickle.load(open(nodes_file_name, 'rU'))\n",
    "x1 = session1.graph.get_tensor_by_name(nodes1['x'])\n",
    "y1 = session1.graph.get_tensor_by_name(nodes1['y'])\n",
    "keep_prob1 = session1.graph.get_tensor_by_name(nodes1['keep_prob'])\n",
    "prediction1 = session1.graph.get_tensor_by_name(nodes1['prediction'])"
   ]
  },
  {
   "cell_type": "code",
   "execution_count": 6,
   "metadata": {},
   "outputs": [
    {
     "name": "stdout",
     "output_type": "stream",
     "text": [
      "real: 9\n",
      "prediction: 9\n"
     ]
    },
    {
     "data": {
      "image/png": "[encoded data removed]",
      "text/plain": [
       "<PIL.Image.Image image mode=RGB size=100x60 at 0x7F139CDE0E50>"
      ]
     },
     "execution_count": 6,
     "metadata": {},
     "output_type": "execute_result"
    }
   ],
   "source": [
    "index = 1\n",
    "imageList, codeList = getData(1)\n",
    "codeList = map(lambda x: x[index], codeList)\n",
    "x_data = map(imageToVertor, imageList)\n",
    "y_data = map(codeToVertor, codeList)\n",
    "p = session1.run(prediction1, feed_dict={x1: x_data, keep_prob1: .1})\n",
    "print 'real:', codeList[0]\n",
    "print 'prediction:', charset[p[0][0]]\n",
    "imageList[0]"
   ]
  },
  {
   "cell_type": "code",
   "execution_count": 11,
   "metadata": {},
   "outputs": [
    {
     "data": {
      "text/plain": [
       "<tensorflow.python.framework.ops.Graph at 0x7f139cdebc10>"
      ]
     },
     "execution_count": 11,
     "metadata": {},
     "output_type": "execute_result"
    }
   ],
   "source": [
    "session0.graph"
   ]
  },
  {
   "cell_type": "code",
   "execution_count": 12,
   "metadata": {},
   "outputs": [
    {
     "data": {
      "text/plain": [
       "<tensorflow.python.framework.ops.Graph at 0x7f139cdebc10>"
      ]
     },
     "execution_count": 12,
     "metadata": {},
     "output_type": "execute_result"
    }
   ],
   "source": [
    "session1.graph"
   ]
  },
  {
   "cell_type": "code",
   "execution_count": 13,
   "metadata": {},
   "outputs": [
    {
     "data": {
      "text/plain": [
       "<tensorflow.python.framework.ops.Graph at 0x7f139cdebc10>"
      ]
     },
     "execution_count": 13,
     "metadata": {},
     "output_type": "execute_result"
    }
   ],
   "source": [
    "tf.get_default_graph()"
   ]
  }
 ],
 "metadata": {
  "kernelspec": {
   "display_name": "Python 2",
   "language": "python",
   "name": "python2"
  },
  "language_info": {
   "codemirror_mode": {
    "name": "ipython",
    "version": 2
   },
   "file_extension": ".py",
   "mimetype": "text/x-python",
   "name": "python",
   "nbconvert_exporter": "python",
   "pygments_lexer": "ipython2",
   "version": "2.7.12"
  }
 },
 "nbformat": 4,
 "nbformat_minor": 2
}
