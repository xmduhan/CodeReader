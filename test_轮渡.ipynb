{
 "cells": [
  {
   "cell_type": "code",
   "execution_count": 1,
   "metadata": {},
   "outputs": [],
   "source": [
    "from reader import CaptchaReader\n",
    "from __future__ import division\n",
    "import numpy as np\n",
    "from PIL import Image\n",
    "from time import sleep"
   ]
  },
  {
   "cell_type": "code",
   "execution_count": 2,
   "metadata": {
    "collapsed": true
   },
   "outputs": [],
   "source": [
    "from ticketpitcher.pitcher import readCode\n",
    "from ticketpitcher.pitcher import imageFile\n",
    "from string import uppercase\n",
    "def getData():\n",
    "    code = readCode()\n",
    "    img = Image.open(imageFile)\n",
    "    image = img\n",
    "    return image, code\n",
    "charset = uppercase + '0123456789'"
   ]
  },
  {
   "cell_type": "code",
   "execution_count": null,
   "metadata": {},
   "outputs": [],
   "source": [
    "image, code = getData()\n",
    "reader = CaptchaReader(image.width, image.height, 4, charset)"
   ]
  },
  {
   "cell_type": "code",
   "execution_count": null,
   "metadata": {},
   "outputs": [
    {
     "name": "stdout",
     "output_type": "stream",
     "text": [
      "loss: 0.691151\n",
      "loss: 0.692927\n",
      "loss: 0.694724\n",
      "loss: 0.699085\n",
      "loss: 0.701184\n",
      "loss: 0.691411\n",
      "loss: 0.689173\n",
      "loss: 0.692447\n",
      "loss: 0.695819\n"
     ]
    }
   ],
   "source": [
    "for _ in range(100):\n",
    "    data = [getData() for i in range(20)]\n",
    "    reader.train(*zip(*data))\n",
    "    sleep(5)"
   ]
  }
 ],
 "metadata": {
  "kernelspec": {
   "display_name": "Python 2",
   "language": "python",
   "name": "python2"
  },
  "language_info": {
   "codemirror_mode": {
    "name": "ipython",
    "version": 2
   },
   "file_extension": ".py",
   "mimetype": "text/x-python",
   "name": "python",
   "nbconvert_exporter": "python",
   "pygments_lexer": "ipython2",
   "version": "2.7.12"
  }
 },
 "nbformat": 4,
 "nbformat_minor": 2
}
