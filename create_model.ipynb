{
 "cells": [
  {
   "cell_type": "code",
   "execution_count": 1,
   "metadata": {
    "collapsed": true
   },
   "outputs": [],
   "source": [
    "from __future__ import division\n",
    "import numpy as np\n",
    "import tensorflow as tf\n",
    "from string import uppercase\n",
    "from captcha.image import ImageCaptcha"
   ]
  },
  {
   "cell_type": "code",
   "execution_count": 2,
   "metadata": {
    "collapsed": true
   },
   "outputs": [],
   "source": [
    "width = 100\n",
    "height = 60\n",
    "# charset = '0123456789'\n",
    "charset = '0123456789' + uppercase\n",
    "captchaLength = 4\n",
    "imageSize = width * height\n",
    "alpha = 1e-3"
   ]
  },
  {
   "cell_type": "code",
   "execution_count": 3,
   "metadata": {
    "collapsed": true
   },
   "outputs": [],
   "source": [
    "def getCode():\n",
    "    return ''.join(map(\n",
    "        lambda x: charset[x], \n",
    "        np.random.randint(0, len(charset), captchaLength)\n",
    "    ))\n",
    "captcha = ImageCaptcha(width=width, height=height)"
   ]
  },
  {
   "cell_type": "code",
   "execution_count": 4,
   "metadata": {
    "collapsed": true
   },
   "outputs": [],
   "source": [
    "def getData(n = 10):    \n",
    "    codeList = [getCode() for _ in range(n)]\n",
    "    imageList = map(lambda code: captcha.generate_image(code), codeList)\n",
    "    return imageList, codeList"
   ]
  },
  {
   "cell_type": "code",
   "execution_count": 5,
   "metadata": {
    "collapsed": true
   },
   "outputs": [],
   "source": [
    "def weight_variable(shape):\n",
    "    initial = tf.random_normal(shape, stddev=0.01)                                                                                                     \n",
    "    return tf.Variable(initial)   "
   ]
  },
  {
   "cell_type": "code",
   "execution_count": 6,
   "metadata": {
    "collapsed": true
   },
   "outputs": [],
   "source": [
    "def bias_variable(shape):\n",
    "    initial = tf.random_normal(shape, stddev=0.1)\n",
    "    return tf.Variable(initial)   "
   ]
  },
  {
   "cell_type": "code",
   "execution_count": 7,
   "metadata": {
    "collapsed": true
   },
   "outputs": [],
   "source": [
    "def conv2d(x, W): \n",
    "    return tf.nn.conv2d(x, W, strides=[1, 1, 1, 1], padding='SAME')"
   ]
  },
  {
   "cell_type": "code",
   "execution_count": 8,
   "metadata": {
    "collapsed": true
   },
   "outputs": [],
   "source": [
    "def max_pool(x):\n",
    "    return tf.nn.max_pool(x, ksize=[1, 2, 2, 1], strides=[1, 2, 2, 1], padding='SAME')"
   ]
  },
  {
   "cell_type": "code",
   "execution_count": 9,
   "metadata": {
    "collapsed": true
   },
   "outputs": [],
   "source": [
    "def imageToVertor(image):\n",
    "    \"\"\" 将图片转化为向量表示 \"\"\"\n",
    "    image = image.convert(\"L\")\n",
    "    image = np.asarray(image)\n",
    "    image = image.reshape([width * height]) / 255\n",
    "    return image"
   ]
  },
  {
   "cell_type": "code",
   "execution_count": 10,
   "metadata": {
    "collapsed": true
   },
   "outputs": [],
   "source": [
    "def codeToVertor(code):\n",
    "    \"\"\" 将验证码转化为向量表示 \"\"\"\n",
    "    labels = np.zeros([captchaLength, len(charset)])\n",
    "    for i in range(captchaLength):\n",
    "        labels[i, charset.index(code[i])] = 1\n",
    "    return labels.reshape(len(charset) * captchaLength)"
   ]
  },
  {
   "cell_type": "code",
   "execution_count": 11,
   "metadata": {},
   "outputs": [
    {
     "name": "stdout",
     "output_type": "stream",
     "text": [
      "JGFW\n"
     ]
    },
    {
     "data": {
      "image/png": "[encoded data removed]",
      "text/plain": [
       "<PIL.Image.Image image mode=RGB size=100x60 at 0x7F5513C55B10>"
      ]
     },
     "execution_count": 11,
     "metadata": {},
     "output_type": "execute_result"
    }
   ],
   "source": [
    "# 测试验证码\n",
    "code = getCode()\n",
    "print code\n",
    "captcha.generate_image(code)"
   ]
  },
  {
   "cell_type": "code",
   "execution_count": 12,
   "metadata": {
    "collapsed": true
   },
   "outputs": [],
   "source": [
    "# 定义输入输出\n",
    "x = tf.placeholder(tf.float32, shape=[None, imageSize])\n",
    "y = tf.placeholder(tf.float32, shape=[None, len(charset) * captchaLength])\n",
    "keep_prob = tf.placeholder(tf.float32)\n",
    "x_image = tf.reshape(x, shape=[-1, width, height, 1])"
   ]
  },
  {
   "cell_type": "code",
   "execution_count": 13,
   "metadata": {
    "collapsed": true
   },
   "outputs": [],
   "source": [
    "# 定义第一层卷积\n",
    "conv_layer1_weight = weight_variable([5, 5, 1, 32])\n",
    "conv_layer1_bias = bias_variable([32])\n",
    "pool_layer1 = max_pool(\n",
    "    tf.nn.relu(conv2d(x_image, conv_layer1_weight) + conv_layer1_bias))"
   ]
  },
  {
   "cell_type": "code",
   "execution_count": 14,
   "metadata": {
    "collapsed": true
   },
   "outputs": [],
   "source": [
    "# 定义第二层卷积\n",
    "conv_layer2_weight = weight_variable([5, 5, 32, 64])\n",
    "conv_layer2_bias = bias_variable([64])\n",
    "pool_layer2 = max_pool(\n",
    "    tf.nn.relu(conv2d(pool_layer1, conv_layer2_weight) + conv_layer2_bias)) "
   ]
  },
  {
   "cell_type": "code",
   "execution_count": 15,
   "metadata": {
    "collapsed": true
   },
   "outputs": [],
   "source": [
    "# 定义第三层卷积\n",
    "conv_layer3_weight = weight_variable([5, 5, 64, 64])\n",
    "conv_layer3_bias = bias_variable([64])\n",
    "pool_layer3 = max_pool(\n",
    "    tf.nn.relu(conv2d(pool_layer2, conv_layer3_weight) + conv_layer3_bias))"
   ]
  },
  {
   "cell_type": "code",
   "execution_count": 16,
   "metadata": {
    "collapsed": true
   },
   "outputs": [],
   "source": [
    "lastWidth = int(round(width / 8))\n",
    "lastHeight = int(round(height / 8))"
   ]
  },
  {
   "cell_type": "code",
   "execution_count": 17,
   "metadata": {
    "collapsed": true
   },
   "outputs": [],
   "source": [
    "# 定义全连接层\n",
    "fc_layer_weight = weight_variable([lastWidth * lastHeight * 64, 1024])\n",
    "fc_layer_bias = bias_variable([1024])\n",
    "pool_layer3_flat = tf.reshape(pool_layer3, [-1, lastWidth * lastHeight * 64])\n",
    "fc_layer = tf.nn.relu(tf.add(tf.matmul(pool_layer3_flat, fc_layer_weight), fc_layer_bias))"
   ]
  },
  {
   "cell_type": "code",
   "execution_count": 18,
   "metadata": {
    "collapsed": true
   },
   "outputs": [],
   "source": [
    "# Dropout层\n",
    "fc_layer_drop = tf.nn.dropout(fc_layer, keep_prob)"
   ]
  },
  {
   "cell_type": "code",
   "execution_count": 19,
   "metadata": {
    "collapsed": true
   },
   "outputs": [],
   "source": [
    "# Readout层\n",
    "output_layer_weight = weight_variable([1024, len(charset) * captchaLength])\n",
    "output_layer_bias = bias_variable([len(charset) * captchaLength])\n",
    "y_conv = tf.add(tf.matmul(fc_layer_drop, output_layer_weight), output_layer_bias)"
   ]
  },
  {
   "cell_type": "code",
   "execution_count": 20,
   "metadata": {
    "collapsed": true
   },
   "outputs": [],
   "source": [
    "# 定义输出函数\n",
    "loss = tf.reduce_mean(tf.nn.sigmoid_cross_entropy_with_logits(labels=y, logits=y_conv))\n",
    "optimizer = tf.train.AdamOptimizer(alpha).minimize(loss)\n",
    "prediction = tf.argmax(tf.reshape(y_conv, [-1, captchaLength, len(charset)]), 2)\n",
    "correct = tf.argmax(tf.reshape(y, [-1, captchaLength, len(charset)]), 2)                                                           \n",
    "correct_prediction = tf.equal(prediction, correct)\n",
    "accuracy = tf.reduce_mean(tf.cast(correct_prediction, tf.float32))"
   ]
  },
  {
   "cell_type": "code",
   "execution_count": null,
   "metadata": {
    "collapsed": true
   },
   "outputs": [],
   "source": [
    "# 初始化session\n",
    "saver = tf.train.Saver()\n",
    "session = tf.Session()\n",
    "session.run(tf.global_variables_initializer())"
   ]
  },
  {
   "cell_type": "code",
   "execution_count": null,
   "metadata": {
    "scrolled": true
   },
   "outputs": [
    {
     "name": "stdout",
     "output_type": "stream",
     "text": [
      "[1]: loss: 0.689582\n",
      "[2]: loss: 0.622208\n",
      "[3]: loss: 0.439838\n",
      "[4]: loss: 0.185140\n",
      "[5]: loss: 0.164710\n",
      "[6]: loss: 0.252127\n",
      "[7]: loss: 0.266934\n",
      "[8]: loss: 0.229840\n",
      "[9]: loss: 0.178243\n"
     ]
    }
   ],
   "source": [
    "for step in range(1, 1000):\n",
    "    imageList, codeList = getData(100)\n",
    "    x_data = map(imageToVertor, imageList)\n",
    "    y_data = map(codeToVertor, codeList)\n",
    "    _, l = session.run([optimizer, loss], feed_dict={x: x_data, y: y_data, keep_prob: .75})\n",
    "    saver.save(session, 'model/model', global_step=step)\n",
    "    print '[%d]: loss: %f' % (step, l)"
   ]
  }
 ],
 "metadata": {
  "kernelspec": {
   "display_name": "Python 2",
   "language": "python",
   "name": "python2"
  },
  "language_info": {
   "codemirror_mode": {
    "name": "ipython",
    "version": 2
   },
   "file_extension": ".py",
   "mimetype": "text/x-python",
   "name": "python",
   "nbconvert_exporter": "python",
   "pygments_lexer": "ipython2",
   "version": "2.7.12"
  }
 },
 "nbformat": 4,
 "nbformat_minor": 2
}
